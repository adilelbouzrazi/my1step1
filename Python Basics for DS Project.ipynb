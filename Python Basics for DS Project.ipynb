{
    "cells": [
        {
            "cell_type": "markdown",
            "metadata": {
                "collapsed": true
            },
            "source": "# \"My Jupyter Notebook on IBM Watson Studio\""
        },
        {
            "cell_type": "markdown",
            "metadata": {},
            "source": ""
        },
        {
            "cell_type": "markdown",
            "metadata": {},
            "source": "**Adil El Bouzrazi**\n\nICT Solution Architect\n\n"
        },
        {
            "cell_type": "markdown",
            "metadata": {},
            "source": "*I am learning Data Science and Programing to upskill myself and have a wide knowledge about ICT fileds*"
        },
        {
            "cell_type": "markdown",
            "metadata": {},
            "source": "### The following code calculates the sum of two integers"
        },
        {
            "cell_type": "code",
            "execution_count": 3,
            "metadata": {},
            "outputs": [
                {
                    "data": {
                        "text/plain": "133"
                    },
                    "execution_count": 3,
                    "metadata": {},
                    "output_type": "execute_result"
                }
            ],
            "source": "def my_sum(a=int, b=int):\n    return a + b\nmy_sum(100,33)"
        },
        {
            "cell_type": "markdown",
            "metadata": {},
            "source": "You can follow me on Linkedin on the following link: \nhttps://www.linkedin.com/in/adil-elbouzrazi/\n\nI am pasionate about the following filed:\n* Cloud and microservices for RAN solutions\n1. 5G and its use cases"
        },
        {
            "cell_type": "code",
            "execution_count": null,
            "metadata": {},
            "outputs": [],
            "source": ""
        }
    ],
    "metadata": {
        "kernelspec": {
            "display_name": "Python 3.8",
            "language": "python",
            "name": "python3"
        },
        "language_info": {
            "codemirror_mode": {
                "name": "ipython",
                "version": 3
            },
            "file_extension": ".py",
            "mimetype": "text/x-python",
            "name": "python",
            "nbconvert_exporter": "python",
            "pygments_lexer": "ipython3",
            "version": "3.8.11"
        }
    },
    "nbformat": 4,
    "nbformat_minor": 1
}